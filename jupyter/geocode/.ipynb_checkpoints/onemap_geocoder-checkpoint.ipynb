{
 "cells": [
  {
   "cell_type": "code",
   "execution_count": 1,
   "metadata": {
    "collapsed": true
   },
   "outputs": [],
   "source": [
    "import pandas as pd\n",
    "import numpy as np\n",
    "import os\n",
    "import requests\n",
    "import matplotlib.pyplot as plt"
   ]
  },
  {
   "cell_type": "code",
   "execution_count": 2,
   "metadata": {
    "collapsed": false
   },
   "outputs": [],
   "source": [
    "# #participant file\n",
    "# participant_file = os.path.join(os.pardir,\"data\",\"DS1_Intern_20170101.csv\")\n",
    "# participant_df = pd.read_csv(participant_file, dtype={'PostalCode': str})"
   ]
  },
  {
   "cell_type": "code",
   "execution_count": 3,
   "metadata": {
    "collapsed": false,
    "scrolled": false
   },
   "outputs": [],
   "source": [
    "# participant_df.head()"
   ]
  },
  {
   "cell_type": "code",
   "execution_count": 4,
   "metadata": {
    "collapsed": false,
    "scrolled": false
   },
   "outputs": [],
   "source": [
    "# devicebrand_df = participant_df[['DeviceBrand','EncNRIC']].groupby('DeviceBrand').agg('count')\n",
    "# filtered_devicebrand_df = devicebrand_df.loc[devicebrand_df['EncNRIC'] > 20]\n",
    "# sorted_filtered_devicebrand_df = filtered_devicebrand_df.sort_values(by='EncNRIC',ascending=False)"
   ]
  },
  {
   "cell_type": "code",
   "execution_count": 5,
   "metadata": {
    "collapsed": false,
    "scrolled": false
   },
   "outputs": [],
   "source": [
    "# sorted_filtered_devicebrand_df.plot(kind='bar', legend=None)\n",
    "# plt.xlabel('Device Brand')\n",
    "# plt.ylabel('Participant Count')\n",
    "# plt.title('Devices with >20 users')\n",
    "\n",
    "# plt.show()"
   ]
  },
  {
   "cell_type": "code",
   "execution_count": 6,
   "metadata": {
    "collapsed": true
   },
   "outputs": [],
   "source": [
    "def onemap_geocode(postalcode):\n",
    "    header = {'User-Agent': 'Mozilla/5.0 (Macintosh; Intel Mac OS X 10_10_1) AppleWebKit/537.36 (KHTML, like Gecko) Chrome/39.0.2171.95 Safari/537.36'}\n",
    "    onemap_request = 'https://developers.onemap.sg/commonapi/search?searchVal=' + str(postalcode) + '&returnGeom=Y&getAddrDetails=N'\n",
    "    print(onemap_request)\n",
    "    response = requests.get(onemap_request)\n",
    "    print('response obtained')\n",
    "    response_json = response.json()\n",
    "    lat = response_json['results'][0]['LATITUDE']\n",
    "    lon = response_json['results'][0]['LONGITUDE']\n",
    "    \n",
    "    return lat + ', ' + lon"
   ]
  },
  {
   "cell_type": "code",
   "execution_count": 7,
   "metadata": {
    "collapsed": false,
    "scrolled": false
   },
   "outputs": [],
   "source": [
    "# geocode_df = participant_df.ix[:10,:2]\n",
    "# geocode_df"
   ]
  },
  {
   "cell_type": "code",
   "execution_count": 8,
   "metadata": {
    "collapsed": false
   },
   "outputs": [
    {
     "name": "stdout",
     "output_type": "stream",
     "text": [
      "https://developers.onemap.sg/commonapi/search?searchVal=178880&returnGeom=Y&getAddrDetails=N\n",
      "response obtained\n"
     ]
    },
    {
     "data": {
      "text/plain": [
       "'1.28881003164, 103.85034901'"
      ]
     },
     "execution_count": 8,
     "metadata": {},
     "output_type": "execute_result"
    }
   ],
   "source": [
    "onemap_geocode(178880)"
   ]
  }
 ],
 "metadata": {
  "anaconda-cloud": {},
  "kernelspec": {
   "display_name": "Python [conda root]",
   "language": "python",
   "name": "conda-root-py"
  },
  "language_info": {
   "codemirror_mode": {
    "name": "ipython",
    "version": 3
   },
   "file_extension": ".py",
   "mimetype": "text/x-python",
   "name": "python",
   "nbconvert_exporter": "python",
   "pygments_lexer": "ipython3",
   "version": "3.5.2"
  }
 },
 "nbformat": 4,
 "nbformat_minor": 1
}
