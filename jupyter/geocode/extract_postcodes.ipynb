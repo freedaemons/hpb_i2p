{
 "cells": [
  {
   "cell_type": "code",
   "execution_count": 1,
   "metadata": {
    "collapsed": true
   },
   "outputs": [],
   "source": [
    "import pandas as pd\n",
    "import numpy as np\n",
    "import os"
   ]
  },
  {
   "cell_type": "code",
   "execution_count": 2,
   "metadata": {
    "collapsed": true
   },
   "outputs": [],
   "source": [
    "#participant file\n",
    "participant_file = os.path.join(os.pardir,\"data\",\"DS1_Intern_20170101.csv\")\n",
    "participant_df = pd.read_csv(participant_file, dtype={'PostalCode': str})"
   ]
  },
  {
   "cell_type": "code",
   "execution_count": 3,
   "metadata": {
    "collapsed": false,
    "scrolled": true
   },
   "outputs": [
    {
     "data": {
      "text/html": [
       "<div>\n",
       "<table border=\"1\" class=\"dataframe\">\n",
       "  <thead>\n",
       "    <tr style=\"text-align: right;\">\n",
       "      <th></th>\n",
       "      <th>EncNRIC</th>\n",
       "      <th>PostalCode</th>\n",
       "      <th>Corporate_Organization</th>\n",
       "      <th>DeviceBrand</th>\n",
       "      <th>DeviceModel</th>\n",
       "      <th>Signup_mode</th>\n",
       "      <th>Signup_roadshow</th>\n",
       "      <th>Setting</th>\n",
       "      <th>Current_Wearable_Source</th>\n",
       "      <th>Profile_Create_Date</th>\n",
       "      <th>Collected_Date</th>\n",
       "      <th>First_Paired_Date_in_S2</th>\n",
       "      <th>Reg_NSC2_Date</th>\n",
       "    </tr>\n",
       "  </thead>\n",
       "  <tbody>\n",
       "    <tr>\n",
       "      <th>0</th>\n",
       "      <td>+++dRFewDCP35Ewg/Hxs0A==</td>\n",
       "      <td>400336</td>\n",
       "      <td>NaN</td>\n",
       "      <td>samsung</td>\n",
       "      <td>SM-N9005</td>\n",
       "      <td>1 App</td>\n",
       "      <td>NaN</td>\n",
       "      <td>NaN</td>\n",
       "      <td>HPBWearable_Apex</td>\n",
       "      <td>18NOV16:17:03:10</td>\n",
       "      <td>18NOV16:00:00:00</td>\n",
       "      <td>19NOV16:16:45:28</td>\n",
       "      <td>18/11/2016</td>\n",
       "    </tr>\n",
       "    <tr>\n",
       "      <th>1</th>\n",
       "      <td>++/KfZFlfVuQNZJvDuDafQ==</td>\n",
       "      <td>546183</td>\n",
       "      <td>NaN</td>\n",
       "      <td>KIOSK</td>\n",
       "      <td>iPad4,2</td>\n",
       "      <td>2 EO App</td>\n",
       "      <td>NaN</td>\n",
       "      <td>NaN</td>\n",
       "      <td>HPBWearable</td>\n",
       "      <td>30OCT16:12:36:26</td>\n",
       "      <td>30OCT16:00:00:00</td>\n",
       "      <td>30OCT16:14:59:38</td>\n",
       "      <td>30/10/2016</td>\n",
       "    </tr>\n",
       "    <tr>\n",
       "      <th>2</th>\n",
       "      <td>++08DjepMTLJ7yMy6b8tOg==</td>\n",
       "      <td>578345</td>\n",
       "      <td>NaN</td>\n",
       "      <td>apple</td>\n",
       "      <td>iPhone6,2</td>\n",
       "      <td>1 App</td>\n",
       "      <td>NaN</td>\n",
       "      <td>NaN</td>\n",
       "      <td>NaN</td>\n",
       "      <td>11OCT16:16:56:02</td>\n",
       "      <td>29OCT16:00:00:00</td>\n",
       "      <td>NaN</td>\n",
       "      <td>29/10/2016</td>\n",
       "    </tr>\n",
       "    <tr>\n",
       "      <th>3</th>\n",
       "      <td>++0kjCLiS480sqIsQ/3GwA==</td>\n",
       "      <td>650420</td>\n",
       "      <td>NaN</td>\n",
       "      <td>samsung</td>\n",
       "      <td>SM-N910G</td>\n",
       "      <td>1 App</td>\n",
       "      <td>NaN</td>\n",
       "      <td>NaN</td>\n",
       "      <td>HPBWearable_Apex</td>\n",
       "      <td>08DEC16:16:30:08</td>\n",
       "      <td>08DEC16:00:00:00</td>\n",
       "      <td>09DEC16:00:46:05</td>\n",
       "      <td>08/12/2016</td>\n",
       "    </tr>\n",
       "    <tr>\n",
       "      <th>4</th>\n",
       "      <td>++0znnPR1z8lmQnhF2Sfpg==</td>\n",
       "      <td>460059</td>\n",
       "      <td>NaN</td>\n",
       "      <td>KIOSK</td>\n",
       "      <td>iPad4,2</td>\n",
       "      <td>2 EO App</td>\n",
       "      <td>NaN</td>\n",
       "      <td>NaN</td>\n",
       "      <td>HPBWearable</td>\n",
       "      <td>15DEC16:20:02:12</td>\n",
       "      <td>15DEC16:00:00:00</td>\n",
       "      <td>15DEC16:20:10:54</td>\n",
       "      <td>15/12/2016</td>\n",
       "    </tr>\n",
       "  </tbody>\n",
       "</table>\n",
       "</div>"
      ],
      "text/plain": [
       "                    EncNRIC PostalCode Corporate_Organization DeviceBrand  \\\n",
       "0  +++dRFewDCP35Ewg/Hxs0A==     400336                    NaN     samsung   \n",
       "1  ++/KfZFlfVuQNZJvDuDafQ==     546183                    NaN       KIOSK   \n",
       "2  ++08DjepMTLJ7yMy6b8tOg==     578345                    NaN       apple   \n",
       "3  ++0kjCLiS480sqIsQ/3GwA==     650420                    NaN     samsung   \n",
       "4  ++0znnPR1z8lmQnhF2Sfpg==     460059                    NaN       KIOSK   \n",
       "\n",
       "  DeviceModel Signup_mode  Signup_roadshow  Setting Current_Wearable_Source  \\\n",
       "0    SM-N9005       1 App              NaN      NaN        HPBWearable_Apex   \n",
       "1     iPad4,2    2 EO App              NaN      NaN             HPBWearable   \n",
       "2   iPhone6,2       1 App              NaN      NaN                     NaN   \n",
       "3    SM-N910G       1 App              NaN      NaN        HPBWearable_Apex   \n",
       "4     iPad4,2    2 EO App              NaN      NaN             HPBWearable   \n",
       "\n",
       "  Profile_Create_Date    Collected_Date First_Paired_Date_in_S2 Reg_NSC2_Date  \n",
       "0    18NOV16:17:03:10  18NOV16:00:00:00        19NOV16:16:45:28    18/11/2016  \n",
       "1    30OCT16:12:36:26  30OCT16:00:00:00        30OCT16:14:59:38    30/10/2016  \n",
       "2    11OCT16:16:56:02  29OCT16:00:00:00                     NaN    29/10/2016  \n",
       "3    08DEC16:16:30:08  08DEC16:00:00:00        09DEC16:00:46:05    08/12/2016  \n",
       "4    15DEC16:20:02:12  15DEC16:00:00:00        15DEC16:20:10:54    15/12/2016  "
      ]
     },
     "execution_count": 3,
     "metadata": {},
     "output_type": "execute_result"
    }
   ],
   "source": [
    "participant_df.head()"
   ]
  },
  {
   "cell_type": "code",
   "execution_count": 4,
   "metadata": {
    "collapsed": false,
    "scrolled": true
   },
   "outputs": [
    {
     "name": "stdout",
     "output_type": "stream",
     "text": [
      "<class 'numpy.ndarray'>\n",
      "total postal codes: 339121\n",
      "unique postal codes: 27393\n"
     ]
    }
   ],
   "source": [
    "postalcode_uniq = participant_df['PostalCode'].unique()\n",
    "print(type(postalcode_uniq))\n",
    "print(\"total postal codes: \" + str(len(participant_df['PostalCode'])))\n",
    "print(\"unique postal codes: \" + str(len(postalcode_uniq)))"
   ]
  },
  {
   "cell_type": "code",
   "execution_count": 13,
   "metadata": {
    "collapsed": false
   },
   "outputs": [],
   "source": [
    "np.savetxt(\"postcodes_uniq.csv\", postalcode_uniq, delimiter = \",\", fmt=\"%s\")"
   ]
  }
 ],
 "metadata": {
  "anaconda-cloud": {},
  "kernelspec": {
   "display_name": "Python [conda root]",
   "language": "python",
   "name": "conda-root-py"
  },
  "language_info": {
   "codemirror_mode": {
    "name": "ipython",
    "version": 3
   },
   "file_extension": ".py",
   "mimetype": "text/x-python",
   "name": "python",
   "nbconvert_exporter": "python",
   "pygments_lexer": "ipython3",
   "version": "3.5.2"
  }
 },
 "nbformat": 4,
 "nbformat_minor": 1
}
