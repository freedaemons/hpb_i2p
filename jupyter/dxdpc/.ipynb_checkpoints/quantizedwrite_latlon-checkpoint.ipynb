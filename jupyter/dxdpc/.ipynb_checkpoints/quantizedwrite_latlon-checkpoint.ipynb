{
 "cells": [
  {
   "cell_type": "code",
   "execution_count": 15,
   "metadata": {
    "collapsed": true
   },
   "outputs": [],
   "source": [
    "import pandas as pd\n",
    "import numpy as np\n",
    "import os\n",
    "import re\n",
    "import csv\n",
    "import requests"
   ]
  },
  {
   "cell_type": "code",
   "execution_count": 11,
   "metadata": {
    "collapsed": false,
    "scrolled": true
   },
   "outputs": [
    {
     "data": {
      "text/plain": [
       "0        400336\n",
       "1        546183\n",
       "2        578345\n",
       "3        650420\n",
       "4        460059\n",
       "5        466507\n",
       "6        357984\n",
       "7        760776\n",
       "8        560129\n",
       "9        732685\n",
       "10       669558\n",
       "11       737785\n",
       "12       330004\n",
       "13       531470\n",
       "14       684686\n",
       "15       760150\n",
       "16       640489\n",
       "17       798595\n",
       "18       828785\n",
       "19       540142\n",
       "20       543124\n",
       "21       550407\n",
       "22       670183\n",
       "23       510709\n",
       "24       760797\n",
       "25       315079\n",
       "26       275018\n",
       "27       310153\n",
       "28       160043\n",
       "29       270026\n",
       "          ...  \n",
       "27097    454965\n",
       "27098    549740\n",
       "27099    428717\n",
       "27100    535039\n",
       "27101    746760\n",
       "27102    577591\n",
       "27103    460449\n",
       "27104    548135\n",
       "27105    554863\n",
       "27106    455301\n",
       "27107    598176\n",
       "27108    489204\n",
       "27109    381006\n",
       "27110    117846\n",
       "27111    788588\n",
       "27112    508254\n",
       "27113    259731\n",
       "27114    759711\n",
       "27115    249446\n",
       "27116    808631\n",
       "27117    574148\n",
       "27118    398231\n",
       "27119    786442\n",
       "27120    596548\n",
       "27121    538908\n",
       "27122    218695\n",
       "27123    229236\n",
       "27124    487448\n",
       "27125    578291\n",
       "27126    637923\n",
       "Name: postalcode, dtype: int64"
      ]
     },
     "execution_count": 11,
     "metadata": {},
     "output_type": "execute_result"
    }
   ],
   "source": [
    "pc_file = os.path.join(os.pardir,\"data\",\"validated_postcodes_uniq.csv\")\n",
    "pcdf = pd.read_csv(pc_file, header=None, names={'postalcode'})\n",
    "pcdf = pcdf.fillna('')\n",
    "pcdf['postalcode']"
   ]
  },
  {
   "cell_type": "code",
   "execution_count": 12,
   "metadata": {
    "collapsed": false
   },
   "outputs": [
    {
     "data": {
      "text/plain": [
       "Series([], Name: postalcode, dtype: object)"
      ]
     },
     "execution_count": 12,
     "metadata": {},
     "output_type": "execute_result"
    }
   ],
   "source": [
    "pc_latlon_file = os.path.join(os.pardir,\"data\", \"pc_latlon.csv\")\n",
    "pc_latlon_df = pd.read_csv(pc_latlon_file)\n",
    "pc_latlon_df['postalcode']"
   ]
  },
  {
   "cell_type": "code",
   "execution_count": 19,
   "metadata": {
    "collapsed": true
   },
   "outputs": [],
   "source": [
    "def onemap_geocode(postalcode):\n",
    "    header = {'User-Agent': 'Mozilla/5.0 (Macintosh; Intel Mac OS X 10_10_1) AppleWebKit/537.36 (KHTML, like Gecko) Chrome/39.0.2171.95 Safari/537.36'}\n",
    "    onemap_request = 'https://developers.onemap.sg/commonapi/search?searchVal=' + str(postalcode) + '&returnGeom=Y&getAddrDetails=N'\n",
    "#     print(onemap_request)\n",
    "    response = requests.get(onemap_request)\n",
    "    response_json = response.json()\n",
    "\n",
    "    try:\n",
    "        lat = response_json['results'][0]['LATITUDE']\n",
    "        lon = response_json['results'][0]['LONGITUDE']\n",
    "    except IndexError:\n",
    "        lat = ''\n",
    "        lon = ''\n",
    "#     print('response for ' + str(postalcode) + ': ' + lat + \", \" + lon)\n",
    "    return lat + ', ' + lon"
   ]
  },
  {
   "cell_type": "code",
   "execution_count": 20,
   "metadata": {
    "collapsed": false
   },
   "outputs": [
    {
     "ename": "NameError",
     "evalue": "name 'geocode_counter' is not defined",
     "output_type": "error",
     "traceback": [
      "\u001b[0;31m---------------------------------------------------------------------------\u001b[0m",
      "\u001b[0;31mNameError\u001b[0m                                 Traceback (most recent call last)",
      "\u001b[0;32m<ipython-input-20-955e1dd5701f>\u001b[0m in \u001b[0;36m<module>\u001b[0;34m()\u001b[0m\n\u001b[1;32m     10\u001b[0m             \u001b[0mnewrow\u001b[0m \u001b[1;33m=\u001b[0m \u001b[1;33m[\u001b[0m\u001b[0mpostalcode\u001b[0m\u001b[1;33m,\u001b[0m \u001b[0mlat\u001b[0m\u001b[1;33m,\u001b[0m \u001b[0mlon\u001b[0m\u001b[1;33m]\u001b[0m\u001b[1;33m\u001b[0m\u001b[0m\n\u001b[1;32m     11\u001b[0m             \u001b[0mwriter\u001b[0m\u001b[1;33m.\u001b[0m\u001b[0mwriterow\u001b[0m\u001b[1;33m(\u001b[0m\u001b[0mnewrow\u001b[0m\u001b[1;33m)\u001b[0m\u001b[1;33m\u001b[0m\u001b[0m\n\u001b[0;32m---> 12\u001b[0;31m             \u001b[0mgeocode_counter\u001b[0m \u001b[1;33m+=\u001b[0m \u001b[1;36m1\u001b[0m\u001b[1;33m\u001b[0m\u001b[0m\n\u001b[0m\u001b[1;32m     13\u001b[0m             \u001b[0mprint\u001b[0m\u001b[1;33m(\u001b[0m\u001b[1;34m'#'\u001b[0m \u001b[1;33m+\u001b[0m \u001b[0mstr\u001b[0m\u001b[1;33m(\u001b[0m\u001b[0mgeocode_counter\u001b[0m\u001b[1;33m)\u001b[0m \u001b[1;33m+\u001b[0m \u001b[1;34m\": \"\u001b[0m \u001b[1;33m+\u001b[0m \u001b[0mstr\u001b[0m\u001b[1;33m(\u001b[0m\u001b[0mnewrow\u001b[0m\u001b[1;33m)\u001b[0m\u001b[1;33m)\u001b[0m\u001b[1;33m\u001b[0m\u001b[0m\n",
      "\u001b[0;31mNameError\u001b[0m: name 'geocode_counter' is not defined"
     ]
    }
   ],
   "source": [
    "%%time\n",
    "geocode_counter = 0\n",
    "\n",
    "with open(pc_latlon_file, 'a', newline='') as outfile:\n",
    "    writer = csv.writer(outfile)\n",
    "    for postalcode in pcdf['postalcode']:\n",
    "        if postalcode not in pc_latlon_df['postalcode']:\n",
    "\n",
    "            latlon = onemap_geocode(postalcode)\n",
    "            lat = latlon.split(',')[0]\n",
    "            lon = latlon.split(',')[1]\n",
    "\n",
    "            newrow = [postalcode, lat, lon]\n",
    "            writer.writerow(newrow)\n",
    "            geocode_counter += 1\n",
    "            print('#' + str(geocode_counter) + \": \" + str(newrow))"
   ]
  }
 ],
 "metadata": {
  "anaconda-cloud": {},
  "kernelspec": {
   "display_name": "Python [conda root]",
   "language": "python",
   "name": "conda-root-py"
  },
  "language_info": {
   "codemirror_mode": {
    "name": "ipython",
    "version": 3
   },
   "file_extension": ".py",
   "mimetype": "text/x-python",
   "name": "python",
   "nbconvert_exporter": "python",
   "pygments_lexer": "ipython3",
   "version": "3.5.2"
  }
 },
 "nbformat": 4,
 "nbformat_minor": 1
}
