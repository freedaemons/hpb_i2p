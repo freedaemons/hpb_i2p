{
 "cells": [
  {
   "cell_type": "markdown",
   "metadata": {},
   "source": [
    "Pandas is a useful Python package which allows us to handle large amounts of data in tables. It includes many useful functions for getting summary statistics of the data held in its tables, and for visualization.\n",
    "\n",
    "Numpy is a scientific package, containing useful classes and functions for manipulating quantitative and qualitative data.\n",
    "\n",
    "os is a package for dealing with file directory structures in a way that avoids typos from entering filepaths manually as strings, and which works across different operating systems.\n",
    "\n",
    "Here, we import these 3 packages for use."
   ]
  },
  {
   "cell_type": "code",
   "execution_count": 1,
   "metadata": {
    "collapsed": true
   },
   "outputs": [],
   "source": [
    "import pandas as pd\n",
    "import numpy as np\n",
    "import os"
   ]
  },
  {
   "cell_type": "markdown",
   "metadata": {},
   "source": [
    "First, we open the csv file containing the latlon data of the points between which we would like to measure the distance."
   ]
  },
  {
   "cell_type": "code",
   "execution_count": 8,
   "metadata": {
    "collapsed": false
   },
   "outputs": [],
   "source": [
    "file = os.path.join(os.pardir,\"data\",\"distancedummy.csv\")\n",
    "df=pd.read_csv(file)"
   ]
  },
  {
   "cell_type": "markdown",
   "metadata": {},
   "source": [
    "We can print out the dataframe, here named 'df', to see its contents. \n",
    "We can also point to a specific cell, and examine its data type. As we can see here, the numeric columns have been automatically converted by Pandas from a text format to a numpy.float64, a numeric format."
   ]
  },
  {
   "cell_type": "code",
   "execution_count": 37,
   "metadata": {
    "collapsed": false
   },
   "outputs": [
    {
     "name": "stdout",
     "output_type": "stream",
     "text": [
      "     id   homelat     homelon        mrtname    mrtlat      mrtlon  directdist\n",
      "0   bob  1.271684  103.807672  Telok Blangah  1.270575  103.809731    0.259835\n",
      "1   tom  1.350142  103.935288       Tampines  1.270575  103.809731   16.515159\n",
      "2  lars  1.425065  103.834088         Yishun  1.429334  103.834966    0.484316\n",
      "3   ron  1.336155  103.698430        Pioneer  1.337614  103.697152    0.215510\n",
      "\n",
      "1.350142: <class 'numpy.float64'>\n"
     ]
    }
   ],
   "source": [
    "print(df)\n",
    "print()\n",
    "print(str(df['homelat'][1]) + ': ' + str(type(df['homelat'][1])))"
   ]
  },
  {
   "cell_type": "markdown",
   "metadata": {},
   "source": [
    "To calculate the distance between latlons, we use the haversine formula, which places the coordinates on a sphere, of radius 6367km. The distance returned is also in km."
   ]
  },
  {
   "cell_type": "code",
   "execution_count": 4,
   "metadata": {
    "collapsed": true
   },
   "outputs": [],
   "source": [
    "from math import radians, cos, sin, asin, sqrt\n",
    "def haversine(lon1, lat1, lon2, lat2):\n",
    "    \"\"\"\n",
    "    Calculate the great circle distance between two points \n",
    "    on the earth (specified in decimal degrees)\n",
    "    \"\"\"\n",
    "    # convert decimal degrees to radians \n",
    "    lon1, lat1, lon2, lat2 = map(radians, [lon1, lat1, lon2, lat2])\n",
    "    # haversine formula \n",
    "    dlon = lon2 - lon1 \n",
    "    dlat = lat2 - lat1 \n",
    "    a = sin(dlat/2)**2 + cos(lat1) * cos(lat2) * sin(dlon/2)**2\n",
    "    c = 2 * asin(sqrt(a)) \n",
    "    km = 6367 * c\n",
    "    return km"
   ]
  },
  {
   "cell_type": "markdown",
   "metadata": {},
   "source": [
    "Next, apply the haversine formula to each row, to calculate the direct distance from their latlon to the nearest MRT station.\n",
    "Here we use a lambda function to apply the haversine formula, and specify the axis=1 to apply it to each row (the default if not specified is axis=0, which applies to each column)"
   ]
  },
  {
   "cell_type": "code",
   "execution_count": 16,
   "metadata": {
    "collapsed": false
   },
   "outputs": [
    {
     "name": "stdout",
     "output_type": "stream",
     "text": [
      "     id   homelat     homelon        mrtname    mrtlat      mrtlon  directdist\n",
      "0   bob  1.271684  103.807672  Telok Blangah  1.270575  103.809731    0.259835\n",
      "1   tom  1.350142  103.935288       Tampines  1.270575  103.809731   16.515159\n",
      "2  lars  1.425065  103.834088         Yishun  1.429334  103.834966    0.484316\n",
      "3   ron  1.336155  103.698430        Pioneer  1.337614  103.697152    0.215510\n"
     ]
    }
   ],
   "source": [
    "df['directdist'] = df.apply(lambda person: haversine(person['homelon'], person['homelat'], person['mrtlon'], person['mrtlat']), axis=1)\n",
    "print(df)"
   ]
  }
 ],
 "metadata": {
  "anaconda-cloud": {},
  "kernelspec": {
   "display_name": "Python [conda root]",
   "language": "python",
   "name": "conda-root-py"
  },
  "language_info": {
   "codemirror_mode": {
    "name": "ipython",
    "version": 3
   },
   "file_extension": ".py",
   "mimetype": "text/x-python",
   "name": "python",
   "nbconvert_exporter": "python",
   "pygments_lexer": "ipython3",
   "version": "3.5.2"
  }
 },
 "nbformat": 4,
 "nbformat_minor": 1
}
